{
 "cells": [
  {
   "cell_type": "markdown",
   "metadata": {},
   "source": [
    "# **Programming for Data Science**\n",
    "## **Final Project**\n",
    "\n",
    "**Student Information:**\n",
    "\n",
    "Student D|Full Name\n",
    "-|-\n",
    "21127469|Vo Thanh Tu\n",
    "22127117|Ly Lien Hoa\n",
    "22127232|Le Thi Ngoc Linh"
   ]
  },
  {
   "cell_type": "markdown",
   "metadata": {},
   "source": [
    "## **0. Import library and description**"
   ]
  },
  {
   "cell_type": "code",
   "execution_count": 1,
   "metadata": {},
   "outputs": [],
   "source": [
    "import pandas as pd  \n",
    "import numpy as np  \n",
    "import matplotlib.pyplot as plt  \n",
    "import seaborn as sns  "
   ]
  },
  {
   "cell_type": "markdown",
   "metadata": {},
   "source": [
    "## **1. Collecting Data** "
   ]
  },
  {
   "cell_type": "code",
   "execution_count": 2,
   "metadata": {},
   "outputs": [
    {
     "name": "stdout",
     "output_type": "stream",
     "text": [
      "Sales Dataset:\n",
      "   Customer ID  Age Gender Loyalty Member Product Type      SKU  Rating  \\\n",
      "0         1000   53   Male             No   Smartphone  SKU1004       2   \n",
      "1         1000   53   Male             No       Tablet  SKU1002       3   \n",
      "2         1002   41   Male             No       Laptop  SKU1005       3   \n",
      "3         1002   41   Male            Yes   Smartphone  SKU1004       2   \n",
      "4         1003   75   Male            Yes   Smartphone  SKU1001       5   \n",
      "\n",
      "  Order Status Payment Method  Total Price  Unit Price  Quantity  \\\n",
      "0    Cancelled    Credit Card      5538.33      791.19         7   \n",
      "1    Completed         Paypal       741.09      247.03         3   \n",
      "2    Completed    Credit Card      1855.84      463.96         4   \n",
      "3    Completed           Cash      3164.76      791.19         4   \n",
      "4    Completed           Cash        41.50       20.75         2   \n",
      "\n",
      "  Purchase Date Shipping Type              Add-ons Purchased  Add-on Total  \n",
      "0    2024-03-20      Standard  Accessory,Accessory,Accessory         40.21  \n",
      "1    2024-04-20     Overnight                   Impulse Item         26.09  \n",
      "2    2023-10-17       Express                            NaN          0.00  \n",
      "3    2024-08-09     Overnight      Impulse Item,Impulse Item         60.16  \n",
      "4    2024-05-21       Express                      Accessory         35.56  \n"
     ]
    }
   ],
   "source": [
    "# Đọc dữ liệu  \n",
    "sales_df = pd.read_csv('Data/sales.csv')  \n",
    "\n",
    "# Hiển thị 5 dòng đầu tiên của mỗi dataset  \n",
    "print(\"Sales Dataset:\")  \n",
    "print(sales_df.head())  "
   ]
  },
  {
   "cell_type": "markdown",
   "metadata": {},
   "source": [
    "## **2. Exploring Data Analysis (EDA)**"
   ]
  },
  {
   "cell_type": "code",
   "execution_count": 3,
   "metadata": {},
   "outputs": [
    {
     "name": "stdout",
     "output_type": "stream",
     "text": [
      "Sales Dataset Info:\n",
      "<class 'pandas.core.frame.DataFrame'>\n",
      "RangeIndex: 20000 entries, 0 to 19999\n",
      "Data columns (total 16 columns):\n",
      " #   Column             Non-Null Count  Dtype  \n",
      "---  ------             --------------  -----  \n",
      " 0   Customer ID        20000 non-null  int64  \n",
      " 1   Age                20000 non-null  int64  \n",
      " 2   Gender             19999 non-null  object \n",
      " 3   Loyalty Member     20000 non-null  object \n",
      " 4   Product Type       20000 non-null  object \n",
      " 5   SKU                20000 non-null  object \n",
      " 6   Rating             20000 non-null  int64  \n",
      " 7   Order Status       20000 non-null  object \n",
      " 8   Payment Method     20000 non-null  object \n",
      " 9   Total Price        20000 non-null  float64\n",
      " 10  Unit Price         20000 non-null  float64\n",
      " 11  Quantity           20000 non-null  int64  \n",
      " 12  Purchase Date      20000 non-null  object \n",
      " 13  Shipping Type      20000 non-null  object \n",
      " 14  Add-ons Purchased  15132 non-null  object \n",
      " 15  Add-on Total       20000 non-null  float64\n",
      "dtypes: float64(3), int64(4), object(9)\n",
      "memory usage: 2.4+ MB\n",
      "None\n"
     ]
    }
   ],
   "source": [
    "print(\"Sales Dataset Info:\")  \n",
    "print(sales_df.info()) "
   ]
  },
  {
   "cell_type": "code",
   "execution_count": 4,
   "metadata": {},
   "outputs": [
    {
     "name": "stdout",
     "output_type": "stream",
     "text": [
      "\n",
      "Sales Dataset Shape: (20000, 16)\n"
     ]
    }
   ],
   "source": [
    "print(\"\\nSales Dataset Shape:\", sales_df.shape)"
   ]
  },
  {
   "cell_type": "code",
   "execution_count": 5,
   "metadata": {},
   "outputs": [
    {
     "name": "stdout",
     "output_type": "stream",
     "text": [
      "Missing values in Sales Dataset:\n",
      "Customer ID             0\n",
      "Age                     0\n",
      "Gender                  1\n",
      "Loyalty Member          0\n",
      "Product Type            0\n",
      "SKU                     0\n",
      "Rating                  0\n",
      "Order Status            0\n",
      "Payment Method          0\n",
      "Total Price             0\n",
      "Unit Price              0\n",
      "Quantity                0\n",
      "Purchase Date           0\n",
      "Shipping Type           0\n",
      "Add-ons Purchased    4868\n",
      "Add-on Total            0\n",
      "dtype: int64\n",
      "\n",
      "Percentage of missing values in Sales Dataset:\n",
      "Customer ID           0.000\n",
      "Age                   0.000\n",
      "Gender                0.005\n",
      "Loyalty Member        0.000\n",
      "Product Type          0.000\n",
      "SKU                   0.000\n",
      "Rating                0.000\n",
      "Order Status          0.000\n",
      "Payment Method        0.000\n",
      "Total Price           0.000\n",
      "Unit Price            0.000\n",
      "Quantity              0.000\n",
      "Purchase Date         0.000\n",
      "Shipping Type         0.000\n",
      "Add-ons Purchased    24.340\n",
      "Add-on Total          0.000\n",
      "dtype: float64\n"
     ]
    }
   ],
   "source": [
    "# Kiểm tra dữ liệu thiếu trong sales dataset  \n",
    "print(\"Missing values in Sales Dataset:\")  \n",
    "print(sales_df.isnull().sum())  \n",
    "\n",
    "# Tính phần trăm dữ liệu thiếu  \n",
    "print(\"\\nPercentage of missing values in Sales Dataset:\")  \n",
    "print((sales_df.isnull().sum() / len(sales_df)) * 100)  "
   ]
  },
  {
   "cell_type": "code",
   "execution_count": 6,
   "metadata": {},
   "outputs": [
    {
     "name": "stdout",
     "output_type": "stream",
     "text": [
      "Sales Dataset Statistics:\n",
      "        Customer ID           Age        Rating   Total Price    Unit Price  \\\n",
      "count  20000.000000  20000.000000  20000.000000  20000.000000  20000.000000   \n",
      "mean   10483.526550     48.994100      3.093950   3180.133419    578.631867   \n",
      "std     5631.732525     18.038745      1.223764   2544.978675    312.274076   \n",
      "min     1000.000000     18.000000      1.000000     20.750000     20.750000   \n",
      "25%     5478.000000     33.000000      2.000000   1139.680000    361.180000   \n",
      "50%    10499.500000     49.000000      3.000000   2534.490000    463.960000   \n",
      "75%    15504.000000     65.000000      4.000000   4639.600000    791.190000   \n",
      "max    19998.000000     80.000000      5.000000  11396.800000   1139.680000   \n",
      "\n",
      "           Quantity  Add-on Total  \n",
      "count  20000.000000  20000.000000  \n",
      "mean       5.485550     62.244848  \n",
      "std        2.870854     58.058431  \n",
      "min        1.000000      0.000000  \n",
      "25%        3.000000      7.615000  \n",
      "50%        5.000000     51.700000  \n",
      "75%        8.000000     93.842500  \n",
      "max       10.000000    292.770000  \n"
     ]
    }
   ],
   "source": [
    "# Thống kê mô tả cho biến số  \n",
    "print(\"Sales Dataset Statistics:\")  \n",
    "print(sales_df.describe())  "
   ]
  },
  {
   "cell_type": "code",
   "execution_count": 7,
   "metadata": {},
   "outputs": [
    {
     "name": "stdout",
     "output_type": "stream",
     "text": [
      "\n",
      "Sales Dataset Categorical Columns:\n",
      "\n",
      "Value counts for Gender:\n",
      "Male      10164\n",
      "Female     9835\n",
      "Name: Gender, dtype: int64\n",
      "\n",
      "Value counts for Loyalty Member:\n",
      "No     15657\n",
      "Yes     4343\n",
      "Name: Loyalty Member, dtype: int64\n",
      "\n",
      "Value counts for Product Type:\n",
      "Smartphone    5978\n",
      "Tablet        4104\n",
      "Laptop        3973\n",
      "Smartwatch    3934\n",
      "Headphones    2011\n",
      "Name: Product Type, dtype: int64\n",
      "\n",
      "Value counts for SKU:\n",
      "TBL345     2062\n",
      "SKU1002    2042\n",
      "SKU1004    2019\n",
      "SKU1005    2012\n",
      "HDP456     2010\n",
      "SMP234     1987\n",
      "SWT567     1980\n",
      "SKU1001    1972\n",
      "LTP123     1961\n",
      "SKU1003    1955\n",
      "Name: SKU, dtype: int64\n",
      "\n",
      "Value counts for Order Status:\n",
      "Completed    13432\n",
      "Cancelled     6568\n",
      "Name: Order Status, dtype: int64\n",
      "\n",
      "Value counts for Payment Method:\n",
      "Credit Card      5868\n",
      "Bank Transfer    3371\n",
      "PayPal           3284\n",
      "Paypal           2514\n",
      "Cash             2492\n",
      "Debit Card       2471\n",
      "Name: Payment Method, dtype: int64\n",
      "\n",
      "Value counts for Purchase Date:\n",
      "2024-04-26    88\n",
      "2024-07-02    85\n",
      "2024-01-28    84\n",
      "2024-04-20    83\n",
      "2024-01-09    82\n",
      "              ..\n",
      "2023-12-10    18\n",
      "2023-11-11    17\n",
      "2023-12-24    17\n",
      "2023-10-26    16\n",
      "2023-11-25    16\n",
      "Name: Purchase Date, Length: 366, dtype: int64\n",
      "\n",
      "Value counts for Shipping Type:\n",
      "Standard     6725\n",
      "Express      3366\n",
      "Overnight    3357\n",
      "Same Day     3280\n",
      "Expedited    3272\n",
      "Name: Shipping Type, dtype: int64\n",
      "\n",
      "Value counts for Add-ons Purchased:\n",
      "Extended Warranty                                  1701\n",
      "Accessory                                          1680\n",
      "Impulse Item                                       1645\n",
      "Extended Warranty,Impulse Item                      311\n",
      "Accessory,Impulse Item                              307\n",
      "                                                   ... \n",
      "Accessory, Extended Warranty, Accessory              80\n",
      "Accessory,Extended Warranty,Extended Warranty        78\n",
      "Extended Warranty, Extended Warranty, Accessory      76\n",
      "Accessory,Impulse Item,Impulse Item                  71\n",
      "Impulse Item,Extended Warranty,Accessory             68\n",
      "Name: Add-ons Purchased, Length: 75, dtype: int64\n"
     ]
    }
   ],
   "source": [
    "# Thống kê mô tả cho biến category  \n",
    "print(\"\\nSales Dataset Categorical Columns:\")  \n",
    "for col in sales_df.select_dtypes(include=['object']).columns:  \n",
    "    print(f\"\\nValue counts for {col}:\")  \n",
    "    print(sales_df[col].value_counts()) "
   ]
  },
  {
   "cell_type": "code",
   "execution_count": null,
   "metadata": {},
   "outputs": [
    {
     "name": "stderr",
     "output_type": "stream",
     "text": [
      "C:\\Users\\thanh\\AppData\\Local\\Temp\\ipykernel_22136\\596092723.py:2: MatplotlibDeprecationWarning: The seaborn styles shipped by Matplotlib are deprecated since 3.6, as they no longer correspond to the styles shipped by seaborn. However, they will remain available as 'seaborn-v0_8-<style>'. Alternatively, directly use the seaborn API instead.\n",
      "  plt.style.use('seaborn')\n"
     ]
    }
   ],
   "source": [
    "# Thiết lập style cho đồ thị  \n",
    "plt.style.use('seaborn')  \n",
    "fig, axes = plt.subplots(3, 2, figsize=(15, 10))  \n",
    "\n",
    "# 1. Histogram cho biến số  \n",
    "numeric_cols = sales_df.select_dtypes(include=['int64', 'float64']).columns  \n",
    "for i, col in enumerate(numeric_cols.drop('Customer ID')):\n",
    "    if i < 8:  # Giới hạn 4 biểu đồ  \n",
    "        row = i // 2  \n",
    "        col_idx = i % 2  \n",
    "        sns.histplot(sales_df[col], ax=axes[row, col_idx], kde=True)  \n",
    "        axes[row, col_idx].set_title(f'Distribution of {col}')  \n",
    "\n",
    "plt.tight_layout()  \n",
    "plt.show()  "
   ]
  },
  {
   "cell_type": "code",
   "execution_count": null,
   "metadata": {},
   "outputs": [],
   "source": [
    "# 2. Box plot cho biến số  \n",
    "for i, col in enumerate(numeric_cols):  \n",
    "\t# new figure for each column\n",
    "\tplt.figure(i)  \n",
    "\tsns.boxplot(y=sales_df[col])  \n",
    "\tplt.title(f'Boxplot of {col}')"
   ]
  },
  {
   "cell_type": "code",
   "execution_count": null,
   "metadata": {},
   "outputs": [],
   "source": [
    "# Tạo ma trận tương quan cho các biến số  \n",
    "numeric_df = sales_df.select_dtypes(include=['int64', 'float64']).drop('Customer ID', axis=1)\n",
    "corr_matrix = numeric_df.corr()  \n",
    "\n",
    "# Vẽ heatmap  \n",
    "plt.figure(figsize=(10, 8))  \n",
    "sns.heatmap(corr_matrix, annot=True, cmap='coolwarm', center=0)  \n",
    "plt.title('Correlation Matrix')  \n",
    "plt.show()"
   ]
  },
  {
   "cell_type": "code",
   "execution_count": null,
   "metadata": {},
   "outputs": [],
   "source": [
    "sales_df['Add-ons Purchased'].str.split(',').str.strip().explode()"
   ]
  },
  {
   "cell_type": "code",
   "execution_count": null,
   "metadata": {},
   "outputs": [],
   "source": [
    "# Frequncy of Add-ons Purchased\n",
    "addons = sales_df['Add-ons Purchased'].str.split(',').explode().str.strip().value_counts()\n",
    "addons.plot(kind='bar', figsize=(10, 6), color='skyblue')"
   ]
  },
  {
   "cell_type": "markdown",
   "metadata": {},
   "source": [
    "## **3. Asking Meaning Questions** "
   ]
  },
  {
   "cell_type": "markdown",
   "metadata": {},
   "source": []
  },
  {
   "cell_type": "markdown",
   "metadata": {},
   "source": [
    "## **4. Pre-processing & Analyzing Data to Answer each Questions** "
   ]
  },
  {
   "cell_type": "markdown",
   "metadata": {},
   "source": []
  },
  {
   "cell_type": "markdown",
   "metadata": {},
   "source": [
    "## **5. Reflection**"
   ]
  },
  {
   "cell_type": "markdown",
   "metadata": {},
   "source": []
  },
  {
   "cell_type": "markdown",
   "metadata": {},
   "source": [
    "## **References**"
   ]
  }
 ],
 "metadata": {
  "kernelspec": {
   "display_name": "min_ds-env",
   "language": "python",
   "name": "python3"
  },
  "language_info": {
   "codemirror_mode": {
    "name": "ipython",
    "version": 3
   },
   "file_extension": ".py",
   "mimetype": "text/x-python",
   "name": "python",
   "nbconvert_exporter": "python",
   "pygments_lexer": "ipython3",
   "version": "3.10.8"
  },
  "orig_nbformat": 4
 },
 "nbformat": 4,
 "nbformat_minor": 2
}
